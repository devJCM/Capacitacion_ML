{
 "cells": [
  {
   "cell_type": "markdown",
   "metadata": {},
   "source": [
    "# Evaluación"
   ]
  },
  {
   "cell_type": "markdown",
   "metadata": {},
   "source": [
    "- Cargar datos desde URL (**no cargar archivo csv**):\n",
    "    * URL de historicos: https://raw.githubusercontent.com/devJCM/Capacitacion_ML/master/Evaluacion/Datos.csv\n",
    "    * URL de **datos nuevos**: https://raw.githubusercontent.com/devJCM/Capacitacion_ML/master/Evaluacion/Predict.csv\n",
    "    \n",
    "    \n",
    "- Variables objetivo:\n",
    "    * **DONOR_FLAG**\n",
    "    * **DONOR_AMOUNT**\n",
    "    \n",
    "  \n",
    "- Arreglar errores de Dataset \n",
    " \n",
    "  \n",
    "- Obtener las **15** variables predictoras más determinantes o **importantes**:    \n",
    " \n",
    " \n",
    "- Obtener el mejor modelo de prediccion para ambas variables objetivo\n",
    "    * Realizar minimo **2 modelos diferentes de clasificación (decision trees y random forest cuentan como 1)**\n",
    "    * Imprimir el score de cada uno de los 3 modelos\n",
    "    * Imprimir la lista o crosstab segun sea el caso, donde se comparen los valores pronosticados contra los reales de cada uno de los 3 modelos\n",
    "    \n",
    "    \n",
    "- Graficar datos reales y prediccion de DONOR_AMOUNT:\n",
    "    * datos reales color **azul**\n",
    "    * datos pronosticados color **rojo**\n",
    "\n",
    "\n",
    "- Guardar modelo\n",
    "\n",
    "\n",
    "- En un notebook diferente cargar el modelo y predecir los valores de las variables objetivo para los **datos nuevos** y agregar dichas predicciones a dos nuevas columnas: **Realizo_Donativo** y **Cantidad_Donada**"
   ]
  }
 ],
 "metadata": {
  "kernelspec": {
   "display_name": "Python 3",
   "language": "python",
   "name": "python3"
  },
  "language_info": {
   "codemirror_mode": {
    "name": "ipython",
    "version": 3
   },
   "file_extension": ".py",
   "mimetype": "text/x-python",
   "name": "python",
   "nbconvert_exporter": "python",
   "pygments_lexer": "ipython3",
   "version": "3.4.5"
  }
 },
 "nbformat": 4,
 "nbformat_minor": 2
}
