{
 "cells": [
  {
   "cell_type": "code",
   "execution_count": 1,
   "metadata": {},
   "outputs": [],
   "source": [
    "from sklearn.feature_selection import RFE\n",
    "\n",
    "from sklearn.svm import SVR\n",
    "\n",
    "import pandas as pd\n",
    "\n",
    "import numpy as np"
   ]
  },
  {
   "cell_type": "code",
   "execution_count": 2,
   "metadata": {},
   "outputs": [
    {
     "data": {
      "text/plain": [
       "(200, 4)"
      ]
     },
     "execution_count": 2,
     "metadata": {},
     "output_type": "execute_result"
    }
   ],
   "source": [
    "dataset=pd.read_csv('../python-ml-course/datasets/ads/Advertising.csv')\n",
    "dataset.shape"
   ]
  },
  {
   "cell_type": "markdown",
   "metadata": {},
   "source": [
    "## 1- Conocer con que variables es mas optimo el modelo"
   ]
  },
  {
   "cell_type": "code",
   "execution_count": 3,
   "metadata": {},
   "outputs": [],
   "source": [
    "all_variables=dataset[['TV','Radio','Newspaper']]\n",
    "\n",
    "variable_deseada=dataset['Sales']\n",
    "\n",
    "estimador=SVR(kernel='linear') \n",
    "\n",
    "selector=RFE(estimador,2,step=1) #El 2 representa el numero de variables que queremos para el modelo predictivo\n",
    "\n",
    "selector=selector.fit(all_variables,variable_deseada)"
   ]
  },
  {
   "cell_type": "code",
   "execution_count": 4,
   "metadata": {},
   "outputs": [
    {
     "data": {
      "text/plain": [
       "array([ True,  True, False])"
      ]
     },
     "execution_count": 4,
     "metadata": {},
     "output_type": "execute_result"
    }
   ],
   "source": [
    "selector.support_  #Variables que se escogieron en base a variables_predictoras"
   ]
  },
  {
   "cell_type": "code",
   "execution_count": 5,
   "metadata": {},
   "outputs": [
    {
     "data": {
      "text/plain": [
       "2"
      ]
     },
     "execution_count": 5,
     "metadata": {},
     "output_type": "execute_result"
    }
   ],
   "source": [
    "from sklearn.feature_selection import RFECV\n",
    "\n",
    "rfe=RFECV(estimador)\n",
    "rfe.fit(all_variables,variable_deseada)\n",
    "rfe.n_features_"
   ]
  },
  {
   "cell_type": "markdown",
   "metadata": {},
   "source": [
    "## 2-Crear Segmentos de Training y Testing"
   ]
  },
  {
   "cell_type": "code",
   "execution_count": 6,
   "metadata": {},
   "outputs": [],
   "source": [
    "from sklearn.model_selection import train_test_split"
   ]
  },
  {
   "cell_type": "code",
   "execution_count": 7,
   "metadata": {},
   "outputs": [],
   "source": [
    "var_predictoras=dataset[['TV','Radio']] #variables basadas en el selector.support_\n",
    "\n",
    "variable_deseada=dataset['Sales']"
   ]
  },
  {
   "cell_type": "code",
   "execution_count": 8,
   "metadata": {},
   "outputs": [],
   "source": [
    "x_train, x_test, y_train, y_test =train_test_split(var_predictoras,variable_deseada,test_size=.2)"
   ]
  },
  {
   "cell_type": "markdown",
   "metadata": {},
   "source": [
    "## 3- Usar variables para crear modelo predictivo"
   ]
  },
  {
   "cell_type": "code",
   "execution_count": 9,
   "metadata": {},
   "outputs": [],
   "source": [
    "from sklearn.linear_model import LinearRegression"
   ]
  },
  {
   "cell_type": "code",
   "execution_count": 10,
   "metadata": {},
   "outputs": [
    {
     "data": {
      "text/plain": [
       "LinearRegression(copy_X=True, fit_intercept=True, n_jobs=1, normalize=False)"
      ]
     },
     "execution_count": 10,
     "metadata": {},
     "output_type": "execute_result"
    }
   ],
   "source": [
    "lm=LinearRegression() #definir modelo\n",
    "\n",
    "lm.fit(x_train,y_train) #realizas el ajuste o fase entrenamiento"
   ]
  },
  {
   "cell_type": "code",
   "execution_count": 11,
   "metadata": {},
   "outputs": [
    {
     "data": {
      "text/plain": [
       "2.7607808965697807"
      ]
     },
     "execution_count": 11,
     "metadata": {},
     "output_type": "execute_result"
    }
   ],
   "source": [
    "lm.intercept_ #ordenada del origen"
   ]
  },
  {
   "cell_type": "code",
   "execution_count": 12,
   "metadata": {},
   "outputs": [
    {
     "data": {
      "text/plain": [
       "array([0.0457114 , 0.19235138])"
      ]
     },
     "execution_count": 12,
     "metadata": {},
     "output_type": "execute_result"
    }
   ],
   "source": [
    "lm.coef_ #coeficientes "
   ]
  },
  {
   "cell_type": "markdown",
   "metadata": {},
   "source": [
    "$$y=a+bx$$"
   ]
  },
  {
   "cell_type": "code",
   "execution_count": 13,
   "metadata": {},
   "outputs": [],
   "source": [
    "sales_predict=lm.intercept_ + lm.coef_[0] * dataset['TV'] + lm.coef_[1] * dataset['Radio']\n",
    "\n",
    "#sales_predict"
   ]
  },
  {
   "cell_type": "markdown",
   "metadata": {},
   "source": [
    "## 4-Prediccion"
   ]
  },
  {
   "cell_type": "code",
   "execution_count": 14,
   "metadata": {},
   "outputs": [
    {
     "data": {
      "text/plain": [
       "array([20.83094547, 11.53822356,  7.52298707, 16.97428844, 21.70952763,\n",
       "       21.11523765, 15.63049875, 24.82424958, 15.45153728,  6.42683502,\n",
       "       11.43269657,  8.76537198, 13.10279659, 17.19145122,  8.0322284 ,\n",
       "       21.2505961 , 15.25219741, 15.09275278, 10.59979855,  9.77223868,\n",
       "        8.67951271,  7.40465362, 18.42431761,  9.385971  , 16.27514034,\n",
       "        8.93253392, 22.25621959, 17.63016976, 16.44743142,  4.35665395,\n",
       "       16.30375586, 10.36310439, 17.98948679, 18.41883769, 12.56445262,\n",
       "       12.90007425, 12.02537802, 21.50978064, 17.51186359,  3.43654076])"
      ]
     },
     "execution_count": 14,
     "metadata": {},
     "output_type": "execute_result"
    }
   ],
   "source": [
    "sales_predict_2=lm.predict(x_test)\n",
    "sales_predict_2"
   ]
  },
  {
   "cell_type": "code",
   "execution_count": 20,
   "metadata": {},
   "outputs": [
    {
     "data": {
      "text/plain": [
       "0.8927130255676554"
      ]
     },
     "execution_count": 20,
     "metadata": {},
     "output_type": "execute_result"
    }
   ],
   "source": [
    "lm.score(x_test,y_test)  # r^2 ajustado AUMENTARLO\n",
    "\n",
    "#error DISMINUIRLO"
   ]
  },
  {
   "cell_type": "code",
   "execution_count": 16,
   "metadata": {},
   "outputs": [
    {
     "data": {
      "text/plain": [
       "[(20.830945471889915, 20.8),\n",
       " (11.53822356197336, 12.0),\n",
       " (7.522987068536044, 7.6),\n",
       " (16.97428844319716, 16.7),\n",
       " (21.709527625834212, 23.2),\n",
       " (21.115237646643873, 22.3),\n",
       " (15.63049875393719, 16.0),\n",
       " (24.82424957762576, 27.0),\n",
       " (15.451537280319817, 12.0),\n",
       " (6.426835020427181, 8.8),\n",
       " (11.432696569062395, 9.5),\n",
       " (8.765371979754642, 10.6),\n",
       " (13.102796585829138, 12.9),\n",
       " (17.19145121692625, 17.4),\n",
       " (8.032228403415525, 9.7),\n",
       " (21.250596096426655, 22.2),\n",
       " (15.25219741014943, 15.5),\n",
       " (15.092752781626643, 14.9),\n",
       " (10.599798545557656, 6.6),\n",
       " (9.772238679749254, 11.0),\n",
       " (8.679512706892616, 9.7),\n",
       " (7.404653624487613, 9.5),\n",
       " (18.424317608032073, 19.2),\n",
       " (9.38597100083728, 10.9),\n",
       " (16.275140343099693, 16.6),\n",
       " (8.932533922560097, 9.5),\n",
       " (22.25621958598099, 24.7),\n",
       " (17.630169761621858, 18.5),\n",
       " (16.447431421100283, 15.5),\n",
       " (4.356653953285454, 7.3),\n",
       " (16.303755857144765, 16.9),\n",
       " (10.363104389847267, 11.5),\n",
       " (17.989486794251228, 19.2),\n",
       " (18.418837693788408, 19.0),\n",
       " (12.564452619788417, 7.2),\n",
       " (12.900074251066657, 12.5),\n",
       " (12.025378021877225, 13.2),\n",
       " (21.50978063522835, 20.7),\n",
       " (17.511863585186955, 14.8),\n",
       " (3.436540763704511, 5.3)]"
      ]
     },
     "execution_count": 16,
     "metadata": {},
     "output_type": "execute_result"
    }
   ],
   "source": [
    "list(zip(sales_predict_2,y_test.tolist()))"
   ]
  }
 ],
 "metadata": {
  "kernelspec": {
   "display_name": "Python 3",
   "language": "python",
   "name": "python3"
  },
  "language_info": {
   "codemirror_mode": {
    "name": "ipython",
    "version": 3
   },
   "file_extension": ".py",
   "mimetype": "text/x-python",
   "name": "python",
   "nbconvert_exporter": "python",
   "pygments_lexer": "ipython3",
   "version": "3.7.2"
  }
 },
 "nbformat": 4,
 "nbformat_minor": 2
}
